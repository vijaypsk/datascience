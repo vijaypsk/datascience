{
  "nbformat": 4,
  "nbformat_minor": 0,
  "metadata": {
    "colab": {
      "name": "Workbook",
      "provenance": [],
      "collapsed_sections": [],
      "include_colab_link": true
    },
    "kernelspec": {
      "name": "python3",
      "display_name": "Python 3"
    }
  },
  "cells": [
    {
      "cell_type": "markdown",
      "metadata": {
        "id": "view-in-github",
        "colab_type": "text"
      },
      "source": [
        "<a href=\"https://colab.research.google.com/github/vijaypsk/datascience/blob/master/Workbook.ipynb\" target=\"_parent\"><img src=\"https://colab.research.google.com/assets/colab-badge.svg\" alt=\"Open In Colab\"/></a>"
      ]
    },
    {
      "cell_type": "markdown",
      "metadata": {
        "id": "9KFrsi3isVFT",
        "colab_type": "text"
      },
      "source": [
        "  **Object creation**"
      ]
    },
    {
      "cell_type": "code",
      "metadata": {
        "id": "BWCPnqS4TBw2",
        "colab_type": "code",
        "outputId": "8d026b49-329c-4fc0-b7c4-696750f3566b",
        "colab": {
          "base_uri": "https://localhost:8080/",
          "height": 221
        }
      },
      "source": [
        "import numpy as np\n",
        "import pandas as pd\n",
        "\n",
        "dates=pd.date_range('20190201',periods=8)\n",
        "print(dates)\n",
        "df=pd.DataFrame(np.random.randn(8,4),index=dates,columns=list('PQRS'))\n",
        "print(df)"
      ],
      "execution_count": 9,
      "outputs": [
        {
          "output_type": "stream",
          "text": [
            "DatetimeIndex(['2019-02-01', '2019-02-02', '2019-02-03', '2019-02-04',\n",
            "               '2019-02-05', '2019-02-06', '2019-02-07', '2019-02-08'],\n",
            "              dtype='datetime64[ns]', freq='D')\n",
            "                   P         Q         R         S\n",
            "2019-02-01  1.545921 -0.427641  0.754031 -0.737076\n",
            "2019-02-02 -1.132558 -0.904429 -0.006168 -1.582717\n",
            "2019-02-03 -1.485594  0.588557 -0.323705 -0.691924\n",
            "2019-02-04  0.111342  1.663647 -0.426254  0.931046\n",
            "2019-02-05 -0.385556 -1.311037  0.543090 -0.490022\n",
            "2019-02-06 -0.792559 -0.210042  0.742540  0.643610\n",
            "2019-02-07  1.982872  0.746250  1.518987 -0.507316\n",
            "2019-02-08  2.908960  0.532508 -0.152549 -1.145115\n"
          ],
          "name": "stdout"
        }
      ]
    },
    {
      "cell_type": "code",
      "metadata": {
        "id": "C_3FApZDUgSL",
        "colab_type": "code",
        "colab": {
          "base_uri": "https://localhost:8080/",
          "height": 306
        },
        "outputId": "a6601eae-d035-4185-9360-6e83c537a410"
      },
      "source": [
        "df2=pd.DataFrame({'A':1.,'B':pd.Timestamp('20190819'),'C':pd.Series(1.3,index=list(range(4)),dtype='float32'),'D':np.array([3.2]*4,dtype='float32'),'E':pd.Categorical(['test','train','test','train']),'F':'bar'})\n",
        "print(df2)\n",
        "print(df2.dtypes)\n",
        "print(df2.F)"
      ],
      "execution_count": 26,
      "outputs": [
        {
          "output_type": "stream",
          "text": [
            "     A          B    C    D      E    F\n",
            "0  1.0 2019-08-19  1.3  3.2   test  bar\n",
            "1  1.0 2019-08-19  1.3  3.2  train  bar\n",
            "2  1.0 2019-08-19  1.3  3.2   test  bar\n",
            "3  1.0 2019-08-19  1.3  3.2  train  bar\n",
            "A           float64\n",
            "B    datetime64[ns]\n",
            "C           float32\n",
            "D           float32\n",
            "E          category\n",
            "F            object\n",
            "dtype: object\n",
            "0    bar\n",
            "1    bar\n",
            "2    bar\n",
            "3    bar\n",
            "Name: F, dtype: object\n"
          ],
          "name": "stdout"
        }
      ]
    },
    {
      "cell_type": "markdown",
      "metadata": {
        "id": "nxol3V66x3rL",
        "colab_type": "text"
      },
      "source": [
        "#  **Viewing Data**"
      ]
    },
    {
      "cell_type": "code",
      "metadata": {
        "id": "ODUpl03rwyW8",
        "colab_type": "code",
        "colab": {
          "base_uri": "https://localhost:8080/",
          "height": 510
        },
        "outputId": "bc7d7bca-6e1c-4141-ebfa-49a39e65fd9c"
      },
      "source": [
        "print(df.head())\n",
        "print(df.tail(2))\n",
        "print(df.index)\n",
        "print(df.columns)\n",
        "print(df.to_numpy())\n",
        "print(df2.to_numpy())"
      ],
      "execution_count": 33,
      "outputs": [
        {
          "output_type": "stream",
          "text": [
            "                   P         Q         R         S\n",
            "2019-02-01  1.545921 -0.427641  0.754031 -0.737076\n",
            "2019-02-02 -1.132558 -0.904429 -0.006168 -1.582717\n",
            "2019-02-03 -1.485594  0.588557 -0.323705 -0.691924\n",
            "2019-02-04  0.111342  1.663647 -0.426254  0.931046\n",
            "2019-02-05 -0.385556 -1.311037  0.543090 -0.490022\n",
            "                   P         Q         R         S\n",
            "2019-02-07  1.982872  0.746250  1.518987 -0.507316\n",
            "2019-02-08  2.908960  0.532508 -0.152549 -1.145115\n",
            "DatetimeIndex(['2019-02-01', '2019-02-02', '2019-02-03', '2019-02-04',\n",
            "               '2019-02-05', '2019-02-06', '2019-02-07', '2019-02-08'],\n",
            "              dtype='datetime64[ns]', freq='D')\n",
            "Index(['P', 'Q', 'R', 'S'], dtype='object')\n",
            "[[ 1.54592099 -0.42764144  0.75403054 -0.73707591]\n",
            " [-1.1325577  -0.90442872 -0.00616799 -1.58271722]\n",
            " [-1.4855942   0.58855665 -0.3237047  -0.6919236 ]\n",
            " [ 0.11134237  1.66364672 -0.42625364  0.93104607]\n",
            " [-0.38555587 -1.31103681  0.54309021 -0.49002229]\n",
            " [-0.79255929 -0.2100419   0.74254043  0.64361018]\n",
            " [ 1.9828722   0.74624969  1.51898728 -0.50731646]\n",
            " [ 2.90895952  0.53250824 -0.15254947 -1.14511466]]\n",
            "[[1.0 Timestamp('2019-08-19 00:00:00') 1.2999999523162842\n",
            "  3.200000047683716 'test' 'bar']\n",
            " [1.0 Timestamp('2019-08-19 00:00:00') 1.2999999523162842\n",
            "  3.200000047683716 'train' 'bar']\n",
            " [1.0 Timestamp('2019-08-19 00:00:00') 1.2999999523162842\n",
            "  3.200000047683716 'test' 'bar']\n",
            " [1.0 Timestamp('2019-08-19 00:00:00') 1.2999999523162842\n",
            "  3.200000047683716 'train' 'bar']]\n"
          ],
          "name": "stdout"
        }
      ]
    },
    {
      "cell_type": "code",
      "metadata": {
        "id": "_g6XKEi0yFnx",
        "colab_type": "code",
        "colab": {
          "base_uri": "https://localhost:8080/",
          "height": 442
        },
        "outputId": "f7bdd043-f1e3-4e67-8484-7f162c87232f"
      },
      "source": [
        "print(df.describe())\n",
        "print(df.T)\n",
        "print(df.sort_index(axis=1,ascending=False))\n",
        "print(df.sort_values(by='R'))"
      ],
      "execution_count": 38,
      "outputs": [
        {
          "output_type": "stream",
          "text": [
            "   2019-02-01  2019-02-02  2019-02-03  ...  2019-02-06  2019-02-07  2019-02-08\n",
            "P    1.545921   -1.132558   -1.485594  ...   -0.792559    1.982872    2.908960\n",
            "Q   -0.427641   -0.904429    0.588557  ...   -0.210042    0.746250    0.532508\n",
            "R    0.754031   -0.006168   -0.323705  ...    0.742540    1.518987   -0.152549\n",
            "S   -0.737076   -1.582717   -0.691924  ...    0.643610   -0.507316   -1.145115\n",
            "\n",
            "[4 rows x 8 columns]\n",
            "                   S         R         Q         P\n",
            "2019-02-01 -0.737076  0.754031 -0.427641  1.545921\n",
            "2019-02-02 -1.582717 -0.006168 -0.904429 -1.132558\n",
            "2019-02-03 -0.691924 -0.323705  0.588557 -1.485594\n",
            "2019-02-04  0.931046 -0.426254  1.663647  0.111342\n",
            "2019-02-05 -0.490022  0.543090 -1.311037 -0.385556\n",
            "2019-02-06  0.643610  0.742540 -0.210042 -0.792559\n",
            "2019-02-07 -0.507316  1.518987  0.746250  1.982872\n",
            "2019-02-08 -1.145115 -0.152549  0.532508  2.908960\n",
            "                   P         Q         R         S\n",
            "2019-02-04  0.111342  1.663647 -0.426254  0.931046\n",
            "2019-02-03 -1.485594  0.588557 -0.323705 -0.691924\n",
            "2019-02-08  2.908960  0.532508 -0.152549 -1.145115\n",
            "2019-02-02 -1.132558 -0.904429 -0.006168 -1.582717\n",
            "2019-02-05 -0.385556 -1.311037  0.543090 -0.490022\n",
            "2019-02-06 -0.792559 -0.210042  0.742540  0.643610\n",
            "2019-02-01  1.545921 -0.427641  0.754031 -0.737076\n",
            "2019-02-07  1.982872  0.746250  1.518987 -0.507316\n"
          ],
          "name": "stdout"
        }
      ]
    },
    {
      "cell_type": "markdown",
      "metadata": {
        "id": "tbBXO5Bm0ACi",
        "colab_type": "text"
      },
      "source": [
        "# **Selection**"
      ]
    },
    {
      "cell_type": "code",
      "metadata": {
        "id": "4_snoYYL0JFZ",
        "colab_type": "code",
        "colab": {
          "base_uri": "https://localhost:8080/",
          "height": 476
        },
        "outputId": "afded3ab-b1b5-46be-a599-4d0f6ddd4750"
      },
      "source": [
        "print(df['R'])\n",
        "print(df[0:3])\n",
        "print(df.loc[dates[0]])\n",
        "print(df.loc[:,['P','R']])"
      ],
      "execution_count": 46,
      "outputs": [
        {
          "output_type": "stream",
          "text": [
            "2019-02-01    0.754031\n",
            "2019-02-02   -0.006168\n",
            "2019-02-03   -0.323705\n",
            "2019-02-04   -0.426254\n",
            "2019-02-05    0.543090\n",
            "2019-02-06    0.742540\n",
            "2019-02-07    1.518987\n",
            "2019-02-08   -0.152549\n",
            "Freq: D, Name: R, dtype: float64\n",
            "                   P         Q         R         S\n",
            "2019-02-01  1.545921 -0.427641  0.754031 -0.737076\n",
            "2019-02-02 -1.132558 -0.904429 -0.006168 -1.582717\n",
            "2019-02-03 -1.485594  0.588557 -0.323705 -0.691924\n",
            "P    1.545921\n",
            "Q   -0.427641\n",
            "R    0.754031\n",
            "S   -0.737076\n",
            "Name: 2019-02-01 00:00:00, dtype: float64\n",
            "                   P         R\n",
            "2019-02-01  1.545921  0.754031\n",
            "2019-02-02 -1.132558 -0.006168\n",
            "2019-02-03 -1.485594 -0.323705\n",
            "2019-02-04  0.111342 -0.426254\n",
            "2019-02-05 -0.385556  0.543090\n",
            "2019-02-06 -0.792559  0.742540\n",
            "2019-02-07  1.982872  1.518987\n",
            "2019-02-08  2.908960 -0.152549\n"
          ],
          "name": "stdout"
        }
      ]
    }
  ]
}