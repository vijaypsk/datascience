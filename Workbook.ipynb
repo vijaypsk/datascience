{
  "nbformat": 4,
  "nbformat_minor": 0,
  "metadata": {
    "colab": {
      "name": "Workbook",
      "provenance": [],
      "collapsed_sections": [],
      "include_colab_link": true
    },
    "kernelspec": {
      "name": "python3",
      "display_name": "Python 3"
    }
  },
  "cells": [
    {
      "cell_type": "markdown",
      "metadata": {
        "id": "view-in-github",
        "colab_type": "text"
      },
      "source": [
        "<a href=\"https://colab.research.google.com/github/vijaypsk/datascience/blob/master/Workbook.ipynb\" target=\"_parent\"><img src=\"https://colab.research.google.com/assets/colab-badge.svg\" alt=\"Open In Colab\"/></a>"
      ]
    },
    {
      "cell_type": "code",
      "metadata": {
        "id": "BWCPnqS4TBw2",
        "colab_type": "code",
        "outputId": "8d026b49-329c-4fc0-b7c4-696750f3566b",
        "colab": {
          "base_uri": "https://localhost:8080/",
          "height": 221
        }
      },
      "source": [
        "import numpy as np\n",
        "import pandas as pd\n",
        "\n",
        "dates=pd.date_range('20190201',periods=8)\n",
        "print(dates)\n",
        "df=pd.DataFrame(np.random.randn(8,4),index=dates,columns=list('PQRS'))\n",
        "print(df)"
      ],
      "execution_count": 9,
      "outputs": [
        {
          "output_type": "stream",
          "text": [
            "DatetimeIndex(['2019-02-01', '2019-02-02', '2019-02-03', '2019-02-04',\n",
            "               '2019-02-05', '2019-02-06', '2019-02-07', '2019-02-08'],\n",
            "              dtype='datetime64[ns]', freq='D')\n",
            "                   P         Q         R         S\n",
            "2019-02-01  1.545921 -0.427641  0.754031 -0.737076\n",
            "2019-02-02 -1.132558 -0.904429 -0.006168 -1.582717\n",
            "2019-02-03 -1.485594  0.588557 -0.323705 -0.691924\n",
            "2019-02-04  0.111342  1.663647 -0.426254  0.931046\n",
            "2019-02-05 -0.385556 -1.311037  0.543090 -0.490022\n",
            "2019-02-06 -0.792559 -0.210042  0.742540  0.643610\n",
            "2019-02-07  1.982872  0.746250  1.518987 -0.507316\n",
            "2019-02-08  2.908960  0.532508 -0.152549 -1.145115\n"
          ],
          "name": "stdout"
        }
      ]
    },
    {
      "cell_type": "code",
      "metadata": {
        "id": "C_3FApZDUgSL",
        "colab_type": "code",
        "colab": {}
      },
      "source": [
        ""
      ],
      "execution_count": 0,
      "outputs": []
    }
  ]
}