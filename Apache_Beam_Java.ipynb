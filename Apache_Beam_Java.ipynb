{
  "nbformat": 4,
  "nbformat_minor": 0,
  "metadata": {
    "colab": {
      "name": "Apache Beam - Java",
      "provenance": [],
      "collapsed_sections": [],
      "toc_visible": true,
      "include_colab_link": true
    },
    "kernelspec": {
      "name": "python3",
      "display_name": "Python 3"
    }
  },
  "cells": [
    {
      "cell_type": "markdown",
      "metadata": {
        "id": "view-in-github",
        "colab_type": "text"
      },
      "source": [
        "<a href=\"https://colab.research.google.com/github/vijaypsk/datascience/blob/master/Apache_Beam_Java.ipynb\" target=\"_parent\"><img src=\"https://colab.research.google.com/assets/colab-badge.svg\" alt=\"Open In Colab\"/></a>"
      ]
    },
    {
      "cell_type": "markdown",
      "metadata": {
        "id": "lNKIMlEDZ_Vw",
        "colab_type": "text"
      },
      "source": [
        "# Try Apache Beam - Java\n",
        "\n",
        "In this notebook, we set up a Java development environment and work through a simple example using the [DirectRunner](https://beam.apache.org/documentation/runners/direct/). You can explore other runners with the [Beam Capatibility Matrix](https://beam.apache.org/documentation/runners/capability-matrix/).\n",
        "\n",
        "To navigate through different sections, use the table of contents. From **View**  drop-down list, select **Table of contents**.\n",
        "\n",
        "To run a code cell, you can click the **Run cell** button at the top left of the cell, or by select it and press **`Shift+Enter`**. Try modifying a code cell and re-running it to see what happens.\n",
        "\n",
        "To learn more about Colab, see [Welcome to Colaboratory!](https://colab.sandbox.google.com/notebooks/welcome.ipynb)."
      ]
    },
    {
      "cell_type": "markdown",
      "metadata": {
        "id": "Fz6KSQ13_3Rr",
        "colab_type": "text"
      },
      "source": [
        "# Setup\n",
        "\n",
        "First, you need to set up your environment."
      ]
    },
    {
      "cell_type": "code",
      "metadata": {
        "id": "GOOk81Jj_yUy",
        "colab_type": "code",
        "outputId": "b29aff40-8e10-4f91-e4c4-faf298cba9bc",
        "colab": {
          "base_uri": "https://localhost:8080/",
          "height": 136
        }
      },
      "source": [
        "# Run and print a shell command.\n",
        "def run(cmd):\n",
        "  print('>> {}'.format(cmd))\n",
        "  !{cmd}  # This is magic to run 'cmd' in the shell.\n",
        "  print('')\n",
        "\n",
        "# Copy the input file into the local filesystem.\n",
        "run('mkdir -p data')\n",
        "run('gsutil cp gs://dataflow-samples/shakespeare/kinglear.txt data/')"
      ],
      "execution_count": 0,
      "outputs": [
        {
          "output_type": "stream",
          "text": [
            ">> mkdir -p data\n",
            "\n",
            ">> gsutil cp gs://dataflow-samples/shakespeare/kinglear.txt data/\n",
            "Copying gs://dataflow-samples/shakespeare/kinglear.txt...\n",
            "/ [1 files][153.6 KiB/153.6 KiB]                                                \n",
            "Operation completed over 1 objects/153.6 KiB.                                    \n",
            "\n"
          ],
          "name": "stdout"
        }
      ]
    },
    {
      "cell_type": "markdown",
      "metadata": {
        "id": "Hmto8JTSWwUK",
        "colab_type": "text"
      },
      "source": [
        "## Installing development tools\n",
        "\n",
        "Let's start by installing Java. We'll use the `default-jdk`, which uses [OpenJDK](https://openjdk.java.net/). This will take a while, so feel free to go for a walk or do some stretching.\n",
        "\n",
        "**Note:** Alternatively, you could install the propietary [Oracle JDK](https://www.oracle.com/technetwork/java/javase/downloads/index.html) instead."
      ]
    },
    {
      "cell_type": "code",
      "metadata": {
        "id": "ONYtX0doWpFz",
        "colab_type": "code",
        "outputId": "59086d5f-294e-4652-d087-37294f22d45c",
        "colab": {
          "base_uri": "https://localhost:8080/",
          "height": 187
        }
      },
      "source": [
        "# Update and upgrade the system before installing anything else.\n",
        "run('apt-get update > /dev/null')\n",
        "run('apt-get upgrade > /dev/null')\n",
        "\n",
        "# Install the Java JDK.\n",
        "run('apt-get install default-jdk > /dev/null')\n",
        "\n",
        "# Check the Java version to see if everything is working well.\n",
        "run('javac -version')"
      ],
      "execution_count": 0,
      "outputs": [
        {
          "output_type": "stream",
          "text": [
            ">> apt-get update > /dev/null\n",
            "\n",
            ">> apt-get upgrade > /dev/null\n",
            "Extracting templates from packages: 100%\n",
            "\n",
            ">> apt-get install default-jdk > /dev/null\n",
            "\n",
            ">> javac -version\n",
            "javac 11.0.6\n",
            "\n"
          ],
          "name": "stdout"
        }
      ]
    },
    {
      "cell_type": "markdown",
      "metadata": {
        "id": "Wab7H4IZW9xZ",
        "colab_type": "text"
      },
      "source": [
        "Now, let's install [Gradle](https://gradle.org/), which we'll need to automate the build and running processes for our application. \n",
        "\n",
        "**Note:** Alternatively, you could install and configure [Maven](https://maven.apache.org/) instead."
      ]
    },
    {
      "cell_type": "code",
      "metadata": {
        "id": "xS3Oeu3DW7vy",
        "colab_type": "code",
        "outputId": "7b7dfcd7-191f-4dfd-a9be-0600cc4f1bb8",
        "colab": {
          "base_uri": "https://localhost:8080/",
          "height": 595
        }
      },
      "source": [
        "import os\n",
        "\n",
        "# Download the gradle source.\n",
        "gradle_version = 'gradle-5.0'\n",
        "gradle_path = f\"/opt/{gradle_version}\"\n",
        "if not os.path.exists(gradle_path):\n",
        "  run(f\"wget -q -nc -O gradle.zip https://services.gradle.org/distributions/{gradle_version}-bin.zip\")\n",
        "  run('unzip -q -d /opt gradle.zip')\n",
        "  run('rm -f gradle.zip')\n",
        "\n",
        "# We're choosing to use the absolute path instead of adding it to the $PATH environment variable.\n",
        "def gradle(args):\n",
        "  run(f\"{gradle_path}/bin/gradle --console=plain {args}\")\n",
        "\n",
        "gradle('-v')"
      ],
      "execution_count": 0,
      "outputs": [
        {
          "output_type": "stream",
          "text": [
            ">> wget -q -nc -O gradle.zip https://services.gradle.org/distributions/gradle-5.0-bin.zip\n",
            "\n",
            ">> unzip -q -d /opt gradle.zip\n",
            "\n",
            ">> rm -f gradle.zip\n",
            "\n",
            ">> /opt/gradle-5.0/bin/gradle --console=plain -v\n",
            "\u001b[m\n",
            "Welcome to Gradle 5.0!\n",
            "\n",
            "Here are the highlights of this release:\n",
            " - Kotlin DSL 1.0\n",
            " - Task timeouts\n",
            " - Dependency alignment aka BOM support\n",
            " - Interactive `gradle init`\n",
            "\n",
            "For more details see https://docs.gradle.org/5.0/release-notes.html\n",
            "\n",
            "\n",
            "------------------------------------------------------------\n",
            "Gradle 5.0\n",
            "------------------------------------------------------------\n",
            "\n",
            "Build time:   2018-11-26 11:48:43 UTC\n",
            "Revision:     7fc6e5abf2fc5fe0824aec8a0f5462664dbcd987\n",
            "\n",
            "Kotlin DSL:   1.0.4\n",
            "Kotlin:       1.3.10\n",
            "Groovy:       2.5.4\n",
            "Ant:          Apache Ant(TM) version 1.9.13 compiled on July 10 2018\n",
            "JVM:          11.0.6 (Ubuntu 11.0.6+10-post-Ubuntu-1ubuntu118.04.1)\n",
            "OS:           Linux 4.14.137+ amd64\n",
            "\n",
            "\u001b[m\n"
          ],
          "name": "stdout"
        }
      ]
    },
    {
      "cell_type": "markdown",
      "metadata": {
        "id": "YTkkapX9KVhA",
        "colab_type": "text"
      },
      "source": [
        "## build.gradle\n",
        "\n",
        "We'll also need a [`build.gradle`](https://guides.gradle.org/creating-new-gradle-builds/) file which will allow us to invoke some useful commands."
      ]
    },
    {
      "cell_type": "code",
      "metadata": {
        "id": "oUqfqWyMuIfR",
        "colab_type": "code",
        "outputId": "8dbbc498-975a-42ce-e642-d7375ecaf168",
        "colab": {
          "base_uri": "https://localhost:8080/",
          "height": 34
        }
      },
      "source": [
        "%%writefile build.gradle\n",
        "\n",
        "plugins {\n",
        "  // id 'idea'     // Uncomment for IntelliJ IDE\n",
        "  // id 'eclipse'  // Uncomment for Eclipse IDE\n",
        "\n",
        "  // Apply java plugin and make it a runnable application.\n",
        "  id 'java'\n",
        "  id 'application'\n",
        "\n",
        "  // 'shadow' allows us to embed all the dependencies into a fat jar.\n",
        "  id 'com.github.johnrengelman.shadow' version '4.0.3'\n",
        "}\n",
        "\n",
        "// This is the path of the main class, stored within ./src/main/java/\n",
        "mainClassName = 'samples.quickstart.WordCount'\n",
        "\n",
        "// Declare the sources from which to fetch dependencies.\n",
        "repositories {\n",
        "  mavenCentral()\n",
        "}\n",
        "\n",
        "// Java version compatibility.\n",
        "sourceCompatibility = 1.8\n",
        "targetCompatibility = 1.8\n",
        "\n",
        "// Use the latest Apache Beam major version 2.\n",
        "// You can also lock into a minor version like '2.9.+'.\n",
        "ext.apacheBeamVersion = '2.+'\n",
        "\n",
        "// Declare the dependencies of the project.\n",
        "dependencies {\n",
        "  shadow \"org.apache.beam:beam-sdks-java-core:$apacheBeamVersion\"\n",
        "\n",
        "  runtime \"org.apache.beam:beam-runners-direct-java:$apacheBeamVersion\"\n",
        "  runtime \"org.slf4j:slf4j-api:1.+\"\n",
        "  runtime \"org.slf4j:slf4j-jdk14:1.+\"\n",
        "\n",
        "  testCompile \"junit:junit:4.+\"\n",
        "}\n",
        "\n",
        "// Configure 'shadowJar' instead of 'jar' to set up the fat jar.\n",
        "shadowJar {\n",
        "  baseName = 'WordCount'  // Name of the fat jar file.\n",
        "  classifier = null       // Set to null, otherwise 'shadow' appends a '-all' to the jar file name.\n",
        "  manifest {\n",
        "    attributes('Main-Class': mainClassName)  // Specify where the main class resides.\n",
        "  }\n",
        "}"
      ],
      "execution_count": 0,
      "outputs": [
        {
          "output_type": "stream",
          "text": [
            "Writing build.gradle\n"
          ],
          "name": "stdout"
        }
      ]
    },
    {
      "cell_type": "markdown",
      "metadata": {
        "id": "cwZcqmFgoLJ9",
        "colab_type": "text"
      },
      "source": [
        "## Creating the directory structure\n",
        "\n",
        "Java and Gradle expect a specific [directory structure](https://docs.gradle.org/current/userguide/organizing_gradle_projects.html). This helps organize large projects into a standard structure.\n",
        "\n",
        "For now, we only need a place where our quickstart code will reside. That has to go within `./src/main/java/`."
      ]
    },
    {
      "cell_type": "code",
      "metadata": {
        "id": "Mr1KTQznbd9F",
        "colab_type": "code",
        "outputId": "392e097e-b9d8-4e8c-82f7-2e0b7652c246",
        "colab": {
          "base_uri": "https://localhost:8080/",
          "height": 51
        }
      },
      "source": [
        "run('mkdir -p src/main/java/samples/quickstart')"
      ],
      "execution_count": 0,
      "outputs": [
        {
          "output_type": "stream",
          "text": [
            ">> mkdir -p src/main/java/samples/quickstart\n",
            "\n"
          ],
          "name": "stdout"
        }
      ]
    },
    {
      "cell_type": "markdown",
      "metadata": {
        "id": "cPvvFB19uXNw",
        "colab_type": "text"
      },
      "source": [
        "# Minimal word count\n",
        "\n",
        "The following example is the \"Hello, World!\" of data processing, a basic implementation of word count. We're creating a simple data processing pipeline that reads a text file and counts the number of occurrences of every word.\n",
        "\n",
        "There are many scenarios where all the data does not fit in memory. Notice that the outputs of the pipeline go to the file system, which allows for large processing jobs in distributed environments."
      ]
    },
    {
      "cell_type": "markdown",
      "metadata": {
        "id": "Fl3iUat7KYIE",
        "colab_type": "text"
      },
      "source": [
        "## WordCount.java"
      ]
    },
    {
      "cell_type": "code",
      "metadata": {
        "id": "5l3S2mjMBKhT",
        "colab_type": "code",
        "outputId": "0da863d6-be68-4937-f3c5-14b9f8df7333",
        "colab": {
          "base_uri": "https://localhost:8080/",
          "height": 34
        }
      },
      "source": [
        "%%writefile src/main/java/samples/quickstart/WordCount.java\n",
        "\n",
        "package samples.quickstart;\n",
        "\n",
        "import org.apache.beam.sdk.Pipeline;\n",
        "import org.apache.beam.sdk.io.TextIO;\n",
        "import org.apache.beam.sdk.options.PipelineOptions;\n",
        "import org.apache.beam.sdk.options.PipelineOptionsFactory;\n",
        "import org.apache.beam.sdk.transforms.Count;\n",
        "import org.apache.beam.sdk.transforms.Filter;\n",
        "import org.apache.beam.sdk.transforms.FlatMapElements;\n",
        "import org.apache.beam.sdk.transforms.MapElements;\n",
        "import org.apache.beam.sdk.values.KV;\n",
        "import org.apache.beam.sdk.values.TypeDescriptors;\n",
        "\n",
        "import java.util.Arrays;\n",
        "\n",
        "public class WordCount {\n",
        "  public static void main(String[] args) {\n",
        "    String inputsDir = \"data/*\";\n",
        "    String outputsPrefix = \"outputs/part\";\n",
        "\n",
        "    PipelineOptions options = PipelineOptionsFactory.fromArgs(args).create();\n",
        "    Pipeline pipeline = Pipeline.create(options);\n",
        "    pipeline\n",
        "        .apply(\"Read lines\", TextIO.read().from(inputsDir))\n",
        "        .apply(\"Find words\", FlatMapElements.into(TypeDescriptors.strings())\n",
        "            .via((String line) -> Arrays.asList(line.split(\"[^\\\\p{L}]+\"))))\n",
        "        .apply(\"Filter empty words\", Filter.by((String word) -> !word.isEmpty()))\n",
        "        .apply(\"Count words\", Count.perElement())\n",
        "        .apply(\"Write results\", MapElements.into(TypeDescriptors.strings())\n",
        "            .via((KV<String, Long> wordCount) ->\n",
        "                  wordCount.getKey() + \": \" + wordCount.getValue()))\n",
        "        .apply(TextIO.write().to(outputsPrefix));\n",
        "    pipeline.run();\n",
        "  }\n",
        "}"
      ],
      "execution_count": 0,
      "outputs": [
        {
          "output_type": "stream",
          "text": [
            "Writing src/main/java/samples/quickstart/WordCount.java\n"
          ],
          "name": "stdout"
        }
      ]
    },
    {
      "cell_type": "markdown",
      "metadata": {
        "id": "yoO4xHnaKiz9",
        "colab_type": "text"
      },
      "source": [
        "## Build and run"
      ]
    },
    {
      "cell_type": "markdown",
      "metadata": {
        "id": "giJMbbcq2OPu",
        "colab_type": "text"
      },
      "source": [
        "Let's first check how the final file system structure looks like. These are all the files required to build and run our application.\n",
        "\n",
        "* `build.gradle` - build configuration for Gradle\n",
        "* `src/main/java/samples/quickstart/WordCount.java` - application source code\n",
        "* `data/kinglear.txt` - input data, this could be any file or files\n",
        "\n",
        "We are now ready to build the application using `gradle build`."
      ]
    },
    {
      "cell_type": "code",
      "metadata": {
        "id": "urmCmtG08F-0",
        "colab_type": "code",
        "outputId": "9bcf31ca-62a5-4294-caf7-1f529b790423",
        "colab": {
          "base_uri": "https://localhost:8080/",
          "height": 493
        }
      },
      "source": [
        "# Build the project.\n",
        "gradle('build')\n",
        "\n",
        "# Check the generated build files.\n",
        "run('ls -lh build/libs/')"
      ],
      "execution_count": 0,
      "outputs": [
        {
          "output_type": "stream",
          "text": [
            ">> /opt/gradle-5.0/bin/gradle --console=plain build\n",
            "\u001b[m> Task :compileJava\n",
            "> Task :processResources NO-SOURCE\n",
            "> Task :classes\n",
            "> Task :jar\n",
            "> Task :startScripts UP-TO-DATE\n",
            "> Task :distTar\n",
            "> Task :distZip\n",
            "> Task :shadowJar\n",
            "> Task :startShadowScripts\n",
            "> Task :shadowDistTar\n",
            "> Task :shadowDistZip\n",
            "> Task :assemble\n",
            "> Task :compileTestJava NO-SOURCE\n",
            "> Task :processTestResources NO-SOURCE\n",
            "> Task :testClasses UP-TO-DATE\n",
            "> Task :test NO-SOURCE\n",
            "> Task :check UP-TO-DATE\n",
            "> Task :build\n",
            "\n",
            "BUILD SUCCESSFUL in 32s\n",
            "9 actionable tasks: 8 executed, 1 up-to-date\n",
            "\u001b[m\n",
            ">> ls -lh build/libs/\n",
            "total 36M\n",
            "-rw-r--r-- 1 root root 2.9K Feb 12 17:49 content.jar\n",
            "-rw-r--r-- 1 root root  36M Feb 12 17:49 WordCount.jar\n",
            "\n"
          ],
          "name": "stdout"
        }
      ]
    },
    {
      "cell_type": "markdown",
      "metadata": {
        "id": "LrRFNZHD8dtu",
        "colab_type": "text"
      },
      "source": [
        "There are two files generated:\n",
        "* The `content.jar` file, the application generated from the regular `build` command. It's only a few kilobytes in size.\n",
        "* The `WordCount.jar` file, with the `baseName` we specified in the `shadowJar` section of the `gradle.build` file. It's a several megabytes in size, with all the required libraries it needs to run embedded in it.\n",
        "\n",
        "The file we're actually interested in is the fat JAR file `WordCount.jar`. To run the fat JAR, we'll use the `gradle runShadow` command."
      ]
    },
    {
      "cell_type": "code",
      "metadata": {
        "id": "CgTXBdTsBn1F",
        "colab_type": "code",
        "outputId": "e9cfa904-e8ba-45b7-fedd-73dbccd4bb1a",
        "colab": {
          "base_uri": "https://localhost:8080/",
          "height": 1000
        }
      },
      "source": [
        "# Run the shadow (fat jar) build.\n",
        "gradle('runShadow')\n",
        "\n",
        "# Sample the first 20 results, remember there are no ordering guarantees.\n",
        "run('head -n 20 outputs/part-00000-of-*')"
      ],
      "execution_count": 0,
      "outputs": [
        {
          "output_type": "stream",
          "text": [
            ">> /opt/gradle-5.0/bin/gradle --console=plain runShadow\n",
            "\u001b[m> Task :compileJava UP-TO-DATE\n",
            "> Task :processResources NO-SOURCE\n",
            "> Task :classes UP-TO-DATE\n",
            "> Task :shadowJar UP-TO-DATE\n",
            "> Task :startShadowScripts UP-TO-DATE\n",
            "> Task :installShadowDist\n",
            "\n",
            "> Task :runShadow\n",
            "Feb 12, 2020 5:49:43 PM org.apache.beam.sdk.io.FileBasedSource getEstimatedSizeBytes\n",
            "INFO: Filepattern data/* matched 1 files with total size 157283\n",
            "Feb 12, 2020 5:49:43 PM org.apache.beam.sdk.io.FileBasedSource split\n",
            "INFO: Splitting filepattern data/* into bundles of size 52427 took 2 ms and produced 1 files and 3 bundles\n",
            "Feb 12, 2020 5:52:05 PM org.apache.beam.sdk.io.WriteFiles$WriteShardsIntoTempFilesFn processElement\n",
            "INFO: Opening writer 8eb3fa21-b665-47ea-93e5-798b56268509 for window org.apache.beam.sdk.transforms.windowing.GlobalWindow@489115ef pane PaneInfo{isFirst=true, isLast=true, timing=ON_TIME, index=0, onTimeIndex=0} destination null\n",
            "Feb 12, 2020 5:52:05 PM org.apache.beam.sdk.io.WriteFiles$WriteShardsIntoTempFilesFn processElement\n",
            "INFO: Opening writer 56b96d6a-e1ec-4931-8058-89a1a4467ad9 for window org.apache.beam.sdk.transforms.windowing.GlobalWindow@489115ef pane PaneInfo{isFirst=true, isLast=true, timing=ON_TIME, index=0, onTimeIndex=0} destination null\n",
            "Feb 12, 2020 5:52:05 PM org.apache.beam.sdk.io.WriteFiles$WriteShardsIntoTempFilesFn processElement\n",
            "INFO: Opening writer a2fec90b-fa0a-430a-a597-2e6492bc64ff for window org.apache.beam.sdk.transforms.windowing.GlobalWindow@489115ef pane PaneInfo{isFirst=true, isLast=true, timing=ON_TIME, index=0, onTimeIndex=0} destination null\n",
            "Feb 12, 2020 5:52:05 PM org.apache.beam.sdk.io.FileBasedSink$Writer close\n",
            "INFO: Successfully wrote temporary file /content/outputs/.temp-beam-f99e37ed-dd7b-476d-afe1-cd0183a4bc01/a2fec90b-fa0a-430a-a597-2e6492bc64ff\n",
            "Feb 12, 2020 5:52:05 PM org.apache.beam.sdk.io.FileBasedSink$Writer close\n",
            "INFO: Successfully wrote temporary file /content/outputs/.temp-beam-f99e37ed-dd7b-476d-afe1-cd0183a4bc01/56b96d6a-e1ec-4931-8058-89a1a4467ad9\n",
            "Feb 12, 2020 5:52:05 PM org.apache.beam.sdk.io.FileBasedSink$Writer close\n",
            "INFO: Successfully wrote temporary file /content/outputs/.temp-beam-f99e37ed-dd7b-476d-afe1-cd0183a4bc01/8eb3fa21-b665-47ea-93e5-798b56268509\n",
            "Feb 12, 2020 5:52:05 PM org.apache.beam.sdk.io.WriteFiles$WriteShardsIntoTempFilesFn processElement\n",
            "INFO: Opening writer 1dca1e4a-ba1b-4cc2-821a-1ee8c4abac2e for window org.apache.beam.sdk.transforms.windowing.GlobalWindow@489115ef pane PaneInfo{isFirst=true, isLast=true, timing=ON_TIME, index=0, onTimeIndex=0} destination null\n",
            "Feb 12, 2020 5:52:05 PM org.apache.beam.sdk.io.FileBasedSink$Writer close\n",
            "INFO: Successfully wrote temporary file /content/outputs/.temp-beam-f99e37ed-dd7b-476d-afe1-cd0183a4bc01/1dca1e4a-ba1b-4cc2-821a-1ee8c4abac2e\n",
            "Feb 12, 2020 5:52:05 PM org.apache.beam.sdk.io.WriteFiles$FinalizeTempFileBundles$FinalizeFn process\n",
            "INFO: Finalizing 4 file results\n",
            "Feb 12, 2020 5:52:05 PM org.apache.beam.sdk.io.FileBasedSink$WriteOperation createMissingEmptyShards\n",
            "INFO: Finalizing for destination null num shards 4.\n",
            "Feb 12, 2020 5:52:05 PM org.apache.beam.sdk.io.FileBasedSink$WriteOperation moveToOutputFiles\n",
            "INFO: Will copy temporary file FileResult{tempFilename=/content/outputs/.temp-beam-f99e37ed-dd7b-476d-afe1-cd0183a4bc01/a2fec90b-fa0a-430a-a597-2e6492bc64ff, shard=1, window=org.apache.beam.sdk.transforms.windowing.GlobalWindow@489115ef, paneInfo=PaneInfo{isFirst=true, isLast=true, timing=ON_TIME, index=0, onTimeIndex=0}} to final location /content/outputs/part-00001-of-00004\n",
            "Feb 12, 2020 5:52:05 PM org.apache.beam.sdk.io.FileBasedSink$WriteOperation moveToOutputFiles\n",
            "INFO: Will copy temporary file FileResult{tempFilename=/content/outputs/.temp-beam-f99e37ed-dd7b-476d-afe1-cd0183a4bc01/56b96d6a-e1ec-4931-8058-89a1a4467ad9, shard=0, window=org.apache.beam.sdk.transforms.windowing.GlobalWindow@489115ef, paneInfo=PaneInfo{isFirst=true, isLast=true, timing=ON_TIME, index=0, onTimeIndex=0}} to final location /content/outputs/part-00000-of-00004\n",
            "Feb 12, 2020 5:52:05 PM org.apache.beam.sdk.io.FileBasedSink$WriteOperation moveToOutputFiles\n",
            "INFO: Will copy temporary file FileResult{tempFilename=/content/outputs/.temp-beam-f99e37ed-dd7b-476d-afe1-cd0183a4bc01/8eb3fa21-b665-47ea-93e5-798b56268509, shard=3, window=org.apache.beam.sdk.transforms.windowing.GlobalWindow@489115ef, paneInfo=PaneInfo{isFirst=true, isLast=true, timing=ON_TIME, index=0, onTimeIndex=0}} to final location /content/outputs/part-00003-of-00004\n",
            "Feb 12, 2020 5:52:05 PM org.apache.beam.sdk.io.FileBasedSink$WriteOperation moveToOutputFiles\n",
            "INFO: Will copy temporary file FileResult{tempFilename=/content/outputs/.temp-beam-f99e37ed-dd7b-476d-afe1-cd0183a4bc01/1dca1e4a-ba1b-4cc2-821a-1ee8c4abac2e, shard=2, window=org.apache.beam.sdk.transforms.windowing.GlobalWindow@489115ef, paneInfo=PaneInfo{isFirst=true, isLast=true, timing=ON_TIME, index=0, onTimeIndex=0}} to final location /content/outputs/part-00002-of-00004\n",
            "Feb 12, 2020 5:52:05 PM org.apache.beam.sdk.io.FileBasedSink$WriteOperation removeTemporaryFiles\n",
            "INFO: Will remove known temporary file /content/outputs/.temp-beam-f99e37ed-dd7b-476d-afe1-cd0183a4bc01/a2fec90b-fa0a-430a-a597-2e6492bc64ff\n",
            "Feb 12, 2020 5:52:05 PM org.apache.beam.sdk.io.FileBasedSink$WriteOperation removeTemporaryFiles\n",
            "INFO: Will remove known temporary file /content/outputs/.temp-beam-f99e37ed-dd7b-476d-afe1-cd0183a4bc01/1dca1e4a-ba1b-4cc2-821a-1ee8c4abac2e\n",
            "Feb 12, 2020 5:52:05 PM org.apache.beam.sdk.io.FileBasedSink$WriteOperation removeTemporaryFiles\n",
            "INFO: Will remove known temporary file /content/outputs/.temp-beam-f99e37ed-dd7b-476d-afe1-cd0183a4bc01/8eb3fa21-b665-47ea-93e5-798b56268509\n",
            "Feb 12, 2020 5:52:05 PM org.apache.beam.sdk.io.FileBasedSink$WriteOperation removeTemporaryFiles\n",
            "INFO: Will remove known temporary file /content/outputs/.temp-beam-f99e37ed-dd7b-476d-afe1-cd0183a4bc01/56b96d6a-e1ec-4931-8058-89a1a4467ad9\n",
            "Feb 12, 2020 5:52:06 PM org.apache.beam.sdk.io.FileBasedSink$WriteOperation removeTemporaryFiles\n",
            "WARNING: Failed to match temporary files under: [/content/outputs/.temp-beam-f99e37ed-dd7b-476d-afe1-cd0183a4bc01/].\n",
            "\n",
            "BUILD SUCCESSFUL in 2m 28s\n",
            "5 actionable tasks: 2 executed, 3 up-to-date\n",
            "\u001b[m\n",
            ">> head -n 20 outputs/part-00000-of-*\n",
            "illustrious: 1\n",
            "leak: 1\n",
            "imperfect: 2\n",
            "arguments: 1\n",
            "fifty: 4\n",
            "Legitimate: 1\n",
            "Pinion: 1\n",
            "half: 12\n",
            "Sure: 2\n",
            "telling: 1\n",
            "poorly: 1\n",
            "minds: 1\n",
            "Dies: 3\n",
            "meats: 1\n",
            "e: 5\n",
            "s: 265\n",
            "n: 5\n",
            "approves: 2\n",
            "c: 1\n",
            "hemlock: 1\n",
            "\n"
          ],
          "name": "stdout"
        }
      ]
    },
    {
      "cell_type": "markdown",
      "metadata": {
        "id": "T_oqlIM55MzM",
        "colab_type": "text"
      },
      "source": [
        "## Distributing your application\n",
        "\n",
        "We can run our fat JAR file as long as we have a Java Runtime Environment installed.\n",
        "\n",
        "To distribute, we copy the fat JAR file and run it with `java -jar`."
      ]
    },
    {
      "cell_type": "code",
      "metadata": {
        "id": "b3YSRjYnavpd",
        "colab_type": "code",
        "outputId": "2e2c62b9-2c12-460b-859e-a28a35ece345",
        "colab": {
          "base_uri": "https://localhost:8080/",
          "height": 1000
        }
      },
      "source": [
        "# You can now distribute and run your Java application as a standalone jar file.\n",
        "run('cp build/libs/WordCount.jar .')\n",
        "run('java -jar WordCount.jar')\n",
        "\n",
        "# Sample the first 20 results, remember there are no ordering guarantees.\n",
        "run('head -n 20 outputs/part-00000-of-*')"
      ],
      "execution_count": 0,
      "outputs": [
        {
          "output_type": "stream",
          "text": [
            ">> cp build/libs/WordCount.jar .\n",
            "\n",
            ">> java -jar WordCount.jar\n",
            "Feb 12, 2020 5:55:05 PM org.apache.beam.sdk.io.FileBasedSource getEstimatedSizeBytes\n",
            "INFO: Filepattern data/* matched 1 files with total size 157283\n",
            "Feb 12, 2020 5:55:05 PM org.apache.beam.sdk.io.FileBasedSource split\n",
            "INFO: Splitting filepattern data/* into bundles of size 52427 took 2 ms and produced 1 files and 3 bundles\n",
            "Feb 12, 2020 5:57:18 PM org.apache.beam.sdk.io.WriteFiles$WriteShardsIntoTempFilesFn processElement\n",
            "INFO: Opening writer 0e44dcfb-b84b-49f8-8feb-6d9b13fc0c3a for window org.apache.beam.sdk.transforms.windowing.GlobalWindow@689604d9 pane PaneInfo{isFirst=true, isLast=true, timing=ON_TIME, index=0, onTimeIndex=0} destination null\n",
            "Feb 12, 2020 5:57:18 PM org.apache.beam.sdk.io.WriteFiles$WriteShardsIntoTempFilesFn processElement\n",
            "INFO: Opening writer 6b4f994a-6de5-45db-aea3-a85a4c79bd0c for window org.apache.beam.sdk.transforms.windowing.GlobalWindow@689604d9 pane PaneInfo{isFirst=true, isLast=true, timing=ON_TIME, index=0, onTimeIndex=0} destination null\n",
            "Feb 12, 2020 5:57:18 PM org.apache.beam.sdk.io.WriteFiles$WriteShardsIntoTempFilesFn processElement\n",
            "INFO: Opening writer 653f3740-3bb7-4968-a65c-46d139e97d8e for window org.apache.beam.sdk.transforms.windowing.GlobalWindow@689604d9 pane PaneInfo{isFirst=true, isLast=true, timing=ON_TIME, index=0, onTimeIndex=0} destination null\n",
            "Feb 12, 2020 5:57:18 PM org.apache.beam.sdk.io.FileBasedSink$Writer close\n",
            "INFO: Successfully wrote temporary file /content/outputs/.temp-beam-b28b095c-249d-4f58-b302-4d95fdc2ae01/0e44dcfb-b84b-49f8-8feb-6d9b13fc0c3a\n",
            "Feb 12, 2020 5:57:18 PM org.apache.beam.sdk.io.FileBasedSink$Writer close\n",
            "INFO: Successfully wrote temporary file /content/outputs/.temp-beam-b28b095c-249d-4f58-b302-4d95fdc2ae01/653f3740-3bb7-4968-a65c-46d139e97d8e\n",
            "Feb 12, 2020 5:57:18 PM org.apache.beam.sdk.io.FileBasedSink$Writer close\n",
            "INFO: Successfully wrote temporary file /content/outputs/.temp-beam-b28b095c-249d-4f58-b302-4d95fdc2ae01/6b4f994a-6de5-45db-aea3-a85a4c79bd0c\n",
            "Feb 12, 2020 5:57:18 PM org.apache.beam.sdk.io.WriteFiles$WriteShardsIntoTempFilesFn processElement\n",
            "INFO: Opening writer 5332294a-c49d-44b8-ac30-6b94a376ee71 for window org.apache.beam.sdk.transforms.windowing.GlobalWindow@689604d9 pane PaneInfo{isFirst=true, isLast=true, timing=ON_TIME, index=0, onTimeIndex=0} destination null\n",
            "Feb 12, 2020 5:57:18 PM org.apache.beam.sdk.io.FileBasedSink$Writer close\n",
            "INFO: Successfully wrote temporary file /content/outputs/.temp-beam-b28b095c-249d-4f58-b302-4d95fdc2ae01/5332294a-c49d-44b8-ac30-6b94a376ee71\n",
            "Feb 12, 2020 5:57:18 PM org.apache.beam.sdk.io.WriteFiles$FinalizeTempFileBundles$FinalizeFn process\n",
            "INFO: Finalizing 4 file results\n",
            "Feb 12, 2020 5:57:18 PM org.apache.beam.sdk.io.FileBasedSink$WriteOperation createMissingEmptyShards\n",
            "INFO: Finalizing for destination null num shards 4.\n",
            "Feb 12, 2020 5:57:18 PM org.apache.beam.sdk.io.FileBasedSink$WriteOperation moveToOutputFiles\n",
            "INFO: Will copy temporary file FileResult{tempFilename=/content/outputs/.temp-beam-b28b095c-249d-4f58-b302-4d95fdc2ae01/0e44dcfb-b84b-49f8-8feb-6d9b13fc0c3a, shard=1, window=org.apache.beam.sdk.transforms.windowing.GlobalWindow@689604d9, paneInfo=PaneInfo{isFirst=true, isLast=true, timing=ON_TIME, index=0, onTimeIndex=0}} to final location /content/outputs/part-00001-of-00004\n",
            "Feb 12, 2020 5:57:18 PM org.apache.beam.sdk.io.FileBasedSink$WriteOperation moveToOutputFiles\n",
            "INFO: Will copy temporary file FileResult{tempFilename=/content/outputs/.temp-beam-b28b095c-249d-4f58-b302-4d95fdc2ae01/6b4f994a-6de5-45db-aea3-a85a4c79bd0c, shard=3, window=org.apache.beam.sdk.transforms.windowing.GlobalWindow@689604d9, paneInfo=PaneInfo{isFirst=true, isLast=true, timing=ON_TIME, index=0, onTimeIndex=0}} to final location /content/outputs/part-00003-of-00004\n",
            "Feb 12, 2020 5:57:18 PM org.apache.beam.sdk.io.FileBasedSink$WriteOperation moveToOutputFiles\n",
            "INFO: Will copy temporary file FileResult{tempFilename=/content/outputs/.temp-beam-b28b095c-249d-4f58-b302-4d95fdc2ae01/5332294a-c49d-44b8-ac30-6b94a376ee71, shard=0, window=org.apache.beam.sdk.transforms.windowing.GlobalWindow@689604d9, paneInfo=PaneInfo{isFirst=true, isLast=true, timing=ON_TIME, index=0, onTimeIndex=0}} to final location /content/outputs/part-00000-of-00004\n",
            "Feb 12, 2020 5:57:18 PM org.apache.beam.sdk.io.FileBasedSink$WriteOperation moveToOutputFiles\n",
            "INFO: Will copy temporary file FileResult{tempFilename=/content/outputs/.temp-beam-b28b095c-249d-4f58-b302-4d95fdc2ae01/653f3740-3bb7-4968-a65c-46d139e97d8e, shard=2, window=org.apache.beam.sdk.transforms.windowing.GlobalWindow@689604d9, paneInfo=PaneInfo{isFirst=true, isLast=true, timing=ON_TIME, index=0, onTimeIndex=0}} to final location /content/outputs/part-00002-of-00004\n",
            "Feb 12, 2020 5:57:18 PM org.apache.beam.sdk.io.FileBasedSink$WriteOperation removeTemporaryFiles\n",
            "INFO: Will remove known temporary file /content/outputs/.temp-beam-b28b095c-249d-4f58-b302-4d95fdc2ae01/6b4f994a-6de5-45db-aea3-a85a4c79bd0c\n",
            "Feb 12, 2020 5:57:18 PM org.apache.beam.sdk.io.FileBasedSink$WriteOperation removeTemporaryFiles\n",
            "INFO: Will remove known temporary file /content/outputs/.temp-beam-b28b095c-249d-4f58-b302-4d95fdc2ae01/5332294a-c49d-44b8-ac30-6b94a376ee71\n",
            "Feb 12, 2020 5:57:18 PM org.apache.beam.sdk.io.FileBasedSink$WriteOperation removeTemporaryFiles\n",
            "INFO: Will remove known temporary file /content/outputs/.temp-beam-b28b095c-249d-4f58-b302-4d95fdc2ae01/653f3740-3bb7-4968-a65c-46d139e97d8e\n",
            "Feb 12, 2020 5:57:18 PM org.apache.beam.sdk.io.FileBasedSink$WriteOperation removeTemporaryFiles\n",
            "INFO: Will remove known temporary file /content/outputs/.temp-beam-b28b095c-249d-4f58-b302-4d95fdc2ae01/0e44dcfb-b84b-49f8-8feb-6d9b13fc0c3a\n",
            "Feb 12, 2020 5:57:18 PM org.apache.beam.sdk.io.FileBasedSink$WriteOperation removeTemporaryFiles\n",
            "WARNING: Failed to match temporary files under: [/content/outputs/.temp-beam-b28b095c-249d-4f58-b302-4d95fdc2ae01/].\n",
            "\n",
            ">> head -n 20 outputs/part-00000-of-*\n",
            "fork: 1\n",
            "ho: 12\n",
            "False: 2\n",
            "foul: 15\n",
            "it: 173\n",
            "Ready: 1\n",
            "become: 2\n",
            "very: 21\n",
            "alteration: 1\n",
            "dejected: 1\n",
            "amplify: 1\n",
            "vassal: 1\n",
            "oft: 6\n",
            "Read: 2\n",
            "remediate: 1\n",
            "festinate: 1\n",
            "la: 1\n",
            "boarish: 1\n",
            "places: 1\n",
            "noses: 2\n",
            "\n"
          ],
          "name": "stdout"
        }
      ]
    },
    {
      "cell_type": "markdown",
      "metadata": {
        "id": "k-HubCrk-h_G",
        "colab_type": "text"
      },
      "source": [
        "# Word count with comments\n",
        "\n",
        "Below is mostly the same code as above, but with comments explaining every line in more detail."
      ]
    },
    {
      "cell_type": "code",
      "metadata": {
        "id": "wvnWyYklCXer",
        "colab_type": "code",
        "outputId": "aa5345fe-79cf-4170-92da-da3c8c58e5b7",
        "colab": {
          "base_uri": "https://localhost:8080/",
          "height": 34
        }
      },
      "source": [
        "%%writefile src/main/java/samples/quickstart/WordCount.java\n",
        "\n",
        "package samples.quickstart;\n",
        "\n",
        "import org.apache.beam.sdk.Pipeline;\n",
        "import org.apache.beam.sdk.io.TextIO;\n",
        "import org.apache.beam.sdk.options.PipelineOptions;\n",
        "import org.apache.beam.sdk.options.PipelineOptionsFactory;\n",
        "import org.apache.beam.sdk.transforms.Count;\n",
        "import org.apache.beam.sdk.transforms.Filter;\n",
        "import org.apache.beam.sdk.transforms.FlatMapElements;\n",
        "import org.apache.beam.sdk.transforms.MapElements;\n",
        "import org.apache.beam.sdk.values.KV;\n",
        "import org.apache.beam.sdk.values.PCollection;\n",
        "import org.apache.beam.sdk.values.TypeDescriptors;\n",
        "\n",
        "import java.util.Arrays;\n",
        "\n",
        "public class WordCount {\n",
        "  public static void main(String[] args) {\n",
        "    String inputsDir = \"data/*\";\n",
        "    String outputsPrefix = \"outputs/part\";\n",
        "\n",
        "    PipelineOptions options = PipelineOptionsFactory.fromArgs(args).create();\n",
        "    Pipeline pipeline = Pipeline.create(options);\n",
        "\n",
        "    // Store the word counts in a PCollection.\n",
        "    // Each element is a KeyValue of (word, count) of types KV<String, Long>.\n",
        "    PCollection<KV<String, Long>> wordCounts =\n",
        "        // The input PCollection is an empty pipeline.\n",
        "        pipeline\n",
        "\n",
        "        // Read lines from a text file.\n",
        "        .apply(\"Read lines\", TextIO.read().from(inputsDir))\n",
        "        // Element type: String - text line\n",
        "\n",
        "        // Use a regular expression to iterate over all words in the line.\n",
        "        // FlatMapElements will yield an element for every element in an iterable.\n",
        "        .apply(\"Find words\", FlatMapElements.into(TypeDescriptors.strings())\n",
        "            .via((String line) -> Arrays.asList(line.split(\"[^\\\\p{L}]+\"))))\n",
        "        // Element type: String - word\n",
        "\n",
        "        // Keep only non-empty words.\n",
        "        .apply(\"Filter empty words\", Filter.by((String word) -> !word.isEmpty()))\n",
        "        // Element type: String - word\n",
        "\n",
        "        // Count each unique word.\n",
        "        .apply(\"Count words\", Count.perElement());\n",
        "        // Element type: KV<String, Long> - key: word, value: counts\n",
        "\n",
        "    // We can process a PCollection through other pipelines, too.\n",
        "    // The input PCollection are the wordCounts from the previous step.\n",
        "    wordCounts\n",
        "        // Format the results into a string so we can write them to a file.\n",
        "        .apply(\"Write results\", MapElements.into(TypeDescriptors.strings())\n",
        "            .via((KV<String, Long> wordCount) ->\n",
        "                  wordCount.getKey() + \": \" + wordCount.getValue()))\n",
        "        // Element type: str - text line\n",
        "\n",
        "        // Finally, write the results to a file.\n",
        "        .apply(TextIO.write().to(outputsPrefix));\n",
        "\n",
        "    // We have to explicitly run the pipeline, otherwise it's only a definition.\n",
        "    pipeline.run();\n",
        "  }\n",
        "}"
      ],
      "execution_count": 0,
      "outputs": [
        {
          "output_type": "stream",
          "text": [
            "Overwriting src/main/java/samples/quickstart/WordCount.java\n"
          ],
          "name": "stdout"
        }
      ]
    },
    {
      "cell_type": "code",
      "metadata": {
        "id": "wKAJp7ON4Vpp",
        "colab_type": "code",
        "outputId": "f7885727-8b7c-4024-a8c4-88b9794f8788",
        "colab": {
          "base_uri": "https://localhost:8080/",
          "height": 1000
        }
      },
      "source": [
        "# Build and run the project. The 'runShadow' task implicitly does a 'build'.\n",
        "gradle('runShadow')\n",
        "\n",
        "# Sample the first 20 results, remember there are no ordering guarantees.\n",
        "run('head -n 20 outputs/part-00000-of-*')"
      ],
      "execution_count": 0,
      "outputs": [
        {
          "output_type": "stream",
          "text": [
            ">> /opt/gradle-5.0/bin/gradle --console=plain runShadow\n",
            "\u001b[m> Task :compileJava\n",
            "> Task :processResources NO-SOURCE\n",
            "> Task :classes\n",
            "> Task :shadowJar\n",
            "> Task :startShadowScripts\n",
            "> Task :installShadowDist\n",
            "\n",
            "> Task :runShadow\n",
            "Feb 12, 2020 5:59:54 PM org.apache.beam.sdk.io.FileBasedSource getEstimatedSizeBytes\n",
            "INFO: Filepattern data/* matched 1 files with total size 157283\n",
            "Feb 12, 2020 5:59:54 PM org.apache.beam.sdk.io.FileBasedSource split\n",
            "INFO: Splitting filepattern data/* into bundles of size 52427 took 2 ms and produced 1 files and 3 bundles\n",
            "Feb 12, 2020 6:02:12 PM org.apache.beam.sdk.io.WriteFiles$WriteShardsIntoTempFilesFn processElement\n",
            "INFO: Opening writer 50e3656f-0f90-4ad6-a827-346a4bd08b44 for window org.apache.beam.sdk.transforms.windowing.GlobalWindow@489115ef pane PaneInfo{isFirst=true, isLast=true, timing=ON_TIME, index=0, onTimeIndex=0} destination null\n",
            "Feb 12, 2020 6:02:12 PM org.apache.beam.sdk.io.WriteFiles$WriteShardsIntoTempFilesFn processElement\n",
            "INFO: Opening writer 52307829-2c15-4995-bbde-0bf974562311 for window org.apache.beam.sdk.transforms.windowing.GlobalWindow@489115ef pane PaneInfo{isFirst=true, isLast=true, timing=ON_TIME, index=0, onTimeIndex=0} destination null\n",
            "Feb 12, 2020 6:02:12 PM org.apache.beam.sdk.io.WriteFiles$WriteShardsIntoTempFilesFn processElement\n",
            "INFO: Opening writer cb4ba7c8-3460-412d-954d-b8de83c21df7 for window org.apache.beam.sdk.transforms.windowing.GlobalWindow@489115ef pane PaneInfo{isFirst=true, isLast=true, timing=ON_TIME, index=0, onTimeIndex=0} destination null\n",
            "Feb 12, 2020 6:02:12 PM org.apache.beam.sdk.io.FileBasedSink$Writer close\n",
            "INFO: Successfully wrote temporary file /content/outputs/.temp-beam-632afb5e-a2e0-4ac0-b025-ec48603159f5/52307829-2c15-4995-bbde-0bf974562311\n",
            "Feb 12, 2020 6:02:12 PM org.apache.beam.sdk.io.FileBasedSink$Writer close\n",
            "INFO: Successfully wrote temporary file /content/outputs/.temp-beam-632afb5e-a2e0-4ac0-b025-ec48603159f5/cb4ba7c8-3460-412d-954d-b8de83c21df7\n",
            "Feb 12, 2020 6:02:12 PM org.apache.beam.sdk.io.FileBasedSink$Writer close\n",
            "INFO: Successfully wrote temporary file /content/outputs/.temp-beam-632afb5e-a2e0-4ac0-b025-ec48603159f5/50e3656f-0f90-4ad6-a827-346a4bd08b44\n",
            "Feb 12, 2020 6:02:12 PM org.apache.beam.sdk.io.WriteFiles$WriteShardsIntoTempFilesFn processElement\n",
            "INFO: Opening writer c9208f54-4cc9-48d6-beb1-5290d4b055cd for window org.apache.beam.sdk.transforms.windowing.GlobalWindow@489115ef pane PaneInfo{isFirst=true, isLast=true, timing=ON_TIME, index=0, onTimeIndex=0} destination null\n",
            "Feb 12, 2020 6:02:12 PM org.apache.beam.sdk.io.FileBasedSink$Writer close\n",
            "INFO: Successfully wrote temporary file /content/outputs/.temp-beam-632afb5e-a2e0-4ac0-b025-ec48603159f5/c9208f54-4cc9-48d6-beb1-5290d4b055cd\n",
            "Feb 12, 2020 6:02:12 PM org.apache.beam.sdk.io.WriteFiles$FinalizeTempFileBundles$FinalizeFn process\n",
            "INFO: Finalizing 4 file results\n",
            "Feb 12, 2020 6:02:12 PM org.apache.beam.sdk.io.FileBasedSink$WriteOperation createMissingEmptyShards\n",
            "INFO: Finalizing for destination null num shards 4.\n",
            "Feb 12, 2020 6:02:12 PM org.apache.beam.sdk.io.FileBasedSink$WriteOperation moveToOutputFiles\n",
            "INFO: Will copy temporary file FileResult{tempFilename=/content/outputs/.temp-beam-632afb5e-a2e0-4ac0-b025-ec48603159f5/52307829-2c15-4995-bbde-0bf974562311, shard=2, window=org.apache.beam.sdk.transforms.windowing.GlobalWindow@489115ef, paneInfo=PaneInfo{isFirst=true, isLast=true, timing=ON_TIME, index=0, onTimeIndex=0}} to final location /content/outputs/part-00002-of-00004\n",
            "Feb 12, 2020 6:02:12 PM org.apache.beam.sdk.io.FileBasedSink$WriteOperation moveToOutputFiles\n",
            "INFO: Will copy temporary file FileResult{tempFilename=/content/outputs/.temp-beam-632afb5e-a2e0-4ac0-b025-ec48603159f5/50e3656f-0f90-4ad6-a827-346a4bd08b44, shard=1, window=org.apache.beam.sdk.transforms.windowing.GlobalWindow@489115ef, paneInfo=PaneInfo{isFirst=true, isLast=true, timing=ON_TIME, index=0, onTimeIndex=0}} to final location /content/outputs/part-00001-of-00004\n",
            "Feb 12, 2020 6:02:12 PM org.apache.beam.sdk.io.FileBasedSink$WriteOperation moveToOutputFiles\n",
            "INFO: Will copy temporary file FileResult{tempFilename=/content/outputs/.temp-beam-632afb5e-a2e0-4ac0-b025-ec48603159f5/cb4ba7c8-3460-412d-954d-b8de83c21df7, shard=0, window=org.apache.beam.sdk.transforms.windowing.GlobalWindow@489115ef, paneInfo=PaneInfo{isFirst=true, isLast=true, timing=ON_TIME, index=0, onTimeIndex=0}} to final location /content/outputs/part-00000-of-00004\n",
            "Feb 12, 2020 6:02:12 PM org.apache.beam.sdk.io.FileBasedSink$WriteOperation moveToOutputFiles\n",
            "INFO: Will copy temporary file FileResult{tempFilename=/content/outputs/.temp-beam-632afb5e-a2e0-4ac0-b025-ec48603159f5/c9208f54-4cc9-48d6-beb1-5290d4b055cd, shard=3, window=org.apache.beam.sdk.transforms.windowing.GlobalWindow@489115ef, paneInfo=PaneInfo{isFirst=true, isLast=true, timing=ON_TIME, index=0, onTimeIndex=0}} to final location /content/outputs/part-00003-of-00004\n",
            "Feb 12, 2020 6:02:12 PM org.apache.beam.sdk.io.FileBasedSink$WriteOperation removeTemporaryFiles\n",
            "INFO: Will remove known temporary file /content/outputs/.temp-beam-632afb5e-a2e0-4ac0-b025-ec48603159f5/cb4ba7c8-3460-412d-954d-b8de83c21df7\n",
            "Feb 12, 2020 6:02:12 PM org.apache.beam.sdk.io.FileBasedSink$WriteOperation removeTemporaryFiles\n",
            "INFO: Will remove known temporary file /content/outputs/.temp-beam-632afb5e-a2e0-4ac0-b025-ec48603159f5/50e3656f-0f90-4ad6-a827-346a4bd08b44\n",
            "Feb 12, 2020 6:02:12 PM org.apache.beam.sdk.io.FileBasedSink$WriteOperation removeTemporaryFiles\n",
            "INFO: Will remove known temporary file /content/outputs/.temp-beam-632afb5e-a2e0-4ac0-b025-ec48603159f5/c9208f54-4cc9-48d6-beb1-5290d4b055cd\n",
            "Feb 12, 2020 6:02:12 PM org.apache.beam.sdk.io.FileBasedSink$WriteOperation removeTemporaryFiles\n",
            "INFO: Will remove known temporary file /content/outputs/.temp-beam-632afb5e-a2e0-4ac0-b025-ec48603159f5/52307829-2c15-4995-bbde-0bf974562311\n",
            "Feb 12, 2020 6:02:12 PM org.apache.beam.sdk.io.FileBasedSink$WriteOperation removeTemporaryFiles\n",
            "WARNING: Failed to match temporary files under: [/content/outputs/.temp-beam-632afb5e-a2e0-4ac0-b025-ec48603159f5/].\n",
            "\n",
            "BUILD SUCCESSFUL in 2m 31s\n",
            "5 actionable tasks: 5 executed\n",
            "\u001b[m\n",
            ">> head -n 20 outputs/part-00000-of-*\n",
            "CURAN: 6\n",
            "tithing: 2\n",
            "syllable: 1\n",
            "twas: 3\n",
            "lacks: 1\n",
            "waste: 1\n",
            "Arms: 1\n",
            "attempting: 1\n",
            "dst: 2\n",
            "Parted: 1\n",
            "met: 6\n",
            "stake: 2\n",
            "threats: 1\n",
            "waked: 3\n",
            "mercy: 5\n",
            "maid: 4\n",
            "danger: 6\n",
            "curs: 1\n",
            "Must: 5\n",
            "Smile: 1\n",
            "\n"
          ],
          "name": "stdout"
        }
      ]
    }
  ]
}