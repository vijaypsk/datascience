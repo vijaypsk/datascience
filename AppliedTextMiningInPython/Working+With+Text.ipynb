{
  "nbformat": 4,
  "nbformat_minor": 0,
  "metadata": {
    "kernelspec": {
      "display_name": "Python 3",
      "language": "python",
      "name": "python3"
    },
    "language_info": {
      "codemirror_mode": {
        "name": "ipython",
        "version": 3
      },
      "file_extension": ".py",
      "mimetype": "text/x-python",
      "name": "python",
      "nbconvert_exporter": "python",
      "pygments_lexer": "ipython3",
      "version": "3.6.2"
    },
    "colab": {
      "name": "Working+With+Text.ipynb",
      "provenance": [],
      "include_colab_link": true
    }
  },
  "cells": [
    {
      "cell_type": "markdown",
      "metadata": {
        "id": "view-in-github",
        "colab_type": "text"
      },
      "source": [
        "<a href=\"https://colab.research.google.com/github/vijaypsk/datascience/blob/master/AppliedTextMiningInPython/Working%2BWith%2BText.ipynb\" target=\"_parent\"><img src=\"https://colab.research.google.com/assets/colab-badge.svg\" alt=\"Open In Colab\"/></a>"
      ]
    },
    {
      "cell_type": "markdown",
      "metadata": {
        "id": "Rc0dAcnaxyx9",
        "colab_type": "text"
      },
      "source": [
        "---\n",
        "\n",
        "_You are currently looking at **version 1.0** of this notebook. To download notebooks and datafiles, as well as get help on Jupyter notebooks in the Coursera platform, visit the [Jupyter Notebook FAQ](https://www.coursera.org/learn/python-text-mining/resources/d9pwm) course resource._\n",
        "\n",
        "---"
      ]
    },
    {
      "cell_type": "markdown",
      "metadata": {
        "id": "vN2ivbyDxyx-",
        "colab_type": "text"
      },
      "source": [
        "# Working With Text"
      ]
    },
    {
      "cell_type": "code",
      "metadata": {
        "id": "NURPkmmbxyx_",
        "colab_type": "code",
        "colab": {
          "base_uri": "https://localhost:8080/",
          "height": 34
        },
        "outputId": "9f4691e0-9d3a-4d0e-89bc-21de26132746"
      },
      "source": [
        "text1 = \"Ethics are built right into the ideals and objectives of the United Nations \"\n",
        "\n",
        "len(text1) # The length of text1"
      ],
      "execution_count": 1,
      "outputs": [
        {
          "output_type": "execute_result",
          "data": {
            "text/plain": [
              "76"
            ]
          },
          "metadata": {
            "tags": []
          },
          "execution_count": 1
        }
      ]
    },
    {
      "cell_type": "code",
      "metadata": {
        "id": "uJKs5pbExyyC",
        "colab_type": "code",
        "colab": {
          "base_uri": "https://localhost:8080/",
          "height": 34
        },
        "outputId": "7189dfe8-ef80-41bb-b409-838b1a0684b4"
      },
      "source": [
        "text2 = text1.split(' ') # Return a list of the words in text2, separating by ' '.\n",
        "\n",
        "len(text2)"
      ],
      "execution_count": 2,
      "outputs": [
        {
          "output_type": "execute_result",
          "data": {
            "text/plain": [
              "14"
            ]
          },
          "metadata": {
            "tags": []
          },
          "execution_count": 2
        }
      ]
    },
    {
      "cell_type": "code",
      "metadata": {
        "id": "NHdUd1kuxyyF",
        "colab_type": "code",
        "colab": {
          "base_uri": "https://localhost:8080/",
          "height": 255
        },
        "outputId": "9430d2b7-5cb1-4bee-ee07-a43ceb1677d5"
      },
      "source": [
        "text2"
      ],
      "execution_count": 3,
      "outputs": [
        {
          "output_type": "execute_result",
          "data": {
            "text/plain": [
              "['Ethics',\n",
              " 'are',\n",
              " 'built',\n",
              " 'right',\n",
              " 'into',\n",
              " 'the',\n",
              " 'ideals',\n",
              " 'and',\n",
              " 'objectives',\n",
              " 'of',\n",
              " 'the',\n",
              " 'United',\n",
              " 'Nations',\n",
              " '']"
            ]
          },
          "metadata": {
            "tags": []
          },
          "execution_count": 3
        }
      ]
    },
    {
      "cell_type": "markdown",
      "metadata": {
        "id": "MUzhYZ9OxyyI",
        "colab_type": "text"
      },
      "source": [
        "<br>\n",
        "List comprehension allows us to find specific words:"
      ]
    },
    {
      "cell_type": "code",
      "metadata": {
        "id": "bBbtuA1AxyyJ",
        "colab_type": "code",
        "colab": {
          "base_uri": "https://localhost:8080/",
          "height": 153
        },
        "outputId": "9b950f2a-854b-4a66-b5ce-b39e186c2243"
      },
      "source": [
        "[w for w in text2 if len(w) > 3] # Words that are greater than 3 letters long in text2"
      ],
      "execution_count": 4,
      "outputs": [
        {
          "output_type": "execute_result",
          "data": {
            "text/plain": [
              "['Ethics',\n",
              " 'built',\n",
              " 'right',\n",
              " 'into',\n",
              " 'ideals',\n",
              " 'objectives',\n",
              " 'United',\n",
              " 'Nations']"
            ]
          },
          "metadata": {
            "tags": []
          },
          "execution_count": 4
        }
      ]
    },
    {
      "cell_type": "code",
      "metadata": {
        "id": "CSoCL7BXxyyL",
        "colab_type": "code",
        "colab": {
          "base_uri": "https://localhost:8080/",
          "height": 34
        },
        "outputId": "2fb9e49c-d28f-47a6-ebe7-503b76e859d8"
      },
      "source": [
        "[w for w in text2 if w.istitle()] # Capitalized words in text2"
      ],
      "execution_count": 5,
      "outputs": [
        {
          "output_type": "execute_result",
          "data": {
            "text/plain": [
              "['Ethics', 'United', 'Nations']"
            ]
          },
          "metadata": {
            "tags": []
          },
          "execution_count": 5
        }
      ]
    },
    {
      "cell_type": "code",
      "metadata": {
        "id": "UHPWM7PDxyyN",
        "colab_type": "code",
        "colab": {
          "base_uri": "https://localhost:8080/",
          "height": 34
        },
        "outputId": "f5e2efb1-ef68-4462-e265-93000e433efa"
      },
      "source": [
        "[w for w in text2 if w.endswith('s')] # Words in text2 that end in 's'"
      ],
      "execution_count": 6,
      "outputs": [
        {
          "output_type": "execute_result",
          "data": {
            "text/plain": [
              "['Ethics', 'ideals', 'objectives', 'Nations']"
            ]
          },
          "metadata": {
            "tags": []
          },
          "execution_count": 6
        }
      ]
    },
    {
      "cell_type": "markdown",
      "metadata": {
        "id": "fzUH2pkJxyyP",
        "colab_type": "text"
      },
      "source": [
        "<br>\n",
        "We can find unique words using `set()`."
      ]
    },
    {
      "cell_type": "code",
      "metadata": {
        "id": "eT_tRkU-xyyQ",
        "colab_type": "code",
        "colab": {
          "base_uri": "https://localhost:8080/",
          "height": 34
        },
        "outputId": "8c12583f-7189-4115-b4f0-0b2940235e12"
      },
      "source": [
        "text3 = 'To be or not to be'\n",
        "text4 = text3.split(' ')\n",
        "\n",
        "len(text4)"
      ],
      "execution_count": 7,
      "outputs": [
        {
          "output_type": "execute_result",
          "data": {
            "text/plain": [
              "6"
            ]
          },
          "metadata": {
            "tags": []
          },
          "execution_count": 7
        }
      ]
    },
    {
      "cell_type": "code",
      "metadata": {
        "id": "YuwDzHmcxyyS",
        "colab_type": "code",
        "colab": {
          "base_uri": "https://localhost:8080/",
          "height": 34
        },
        "outputId": "a9ef87ff-3b8e-482d-d0b3-b2227ac1b425"
      },
      "source": [
        "len(set(text4))"
      ],
      "execution_count": 8,
      "outputs": [
        {
          "output_type": "execute_result",
          "data": {
            "text/plain": [
              "5"
            ]
          },
          "metadata": {
            "tags": []
          },
          "execution_count": 8
        }
      ]
    },
    {
      "cell_type": "code",
      "metadata": {
        "id": "FzvwfKX0xyyV",
        "colab_type": "code",
        "colab": {
          "base_uri": "https://localhost:8080/",
          "height": 34
        },
        "outputId": "ae35f768-c3e7-4b7e-819c-f437f50d38ab"
      },
      "source": [
        "set(text4)"
      ],
      "execution_count": 9,
      "outputs": [
        {
          "output_type": "execute_result",
          "data": {
            "text/plain": [
              "{'To', 'be', 'not', 'or', 'to'}"
            ]
          },
          "metadata": {
            "tags": []
          },
          "execution_count": 9
        }
      ]
    },
    {
      "cell_type": "code",
      "metadata": {
        "id": "I_djukj1xyyY",
        "colab_type": "code",
        "colab": {
          "base_uri": "https://localhost:8080/",
          "height": 34
        },
        "outputId": "0328c126-e999-4856-c1a2-8eb234d52679"
      },
      "source": [
        "len(set([w.lower() for w in text4])) # .lower converts the string to lowercase.\n",
        "set([w.lower() for w in text4])"
      ],
      "execution_count": 13,
      "outputs": [
        {
          "output_type": "execute_result",
          "data": {
            "text/plain": [
              "{'be', 'not', 'or', 'to'}"
            ]
          },
          "metadata": {
            "tags": []
          },
          "execution_count": 13
        }
      ]
    },
    {
      "cell_type": "code",
      "metadata": {
        "id": "QuqDbe0Dxyya",
        "colab_type": "code",
        "colab": {}
      },
      "source": [
        "set([w.lower() for w in text4])"
      ],
      "execution_count": 0,
      "outputs": []
    },
    {
      "cell_type": "markdown",
      "metadata": {
        "id": "k5WvNMR3xyyc",
        "colab_type": "text"
      },
      "source": [
        "### Processing free-text"
      ]
    },
    {
      "cell_type": "code",
      "metadata": {
        "id": "iEftliPhxyyd",
        "colab_type": "code",
        "colab": {
          "base_uri": "https://localhost:8080/",
          "height": 374
        },
        "outputId": "4d14a94a-cc79-4788-84b1-ad80d432765c"
      },
      "source": [
        "text5 = '\"Ethics are built right into the ideals and objectives of the #United Nations\" \\\n",
        "#UNSG @ NY Society for Ethical Culture bit.ly/2guVelr'\n",
        "text6 = text5.split(' ')\n",
        "\n",
        "text6"
      ],
      "execution_count": 16,
      "outputs": [
        {
          "output_type": "execute_result",
          "data": {
            "text/plain": [
              "['\"Ethics',\n",
              " 'are',\n",
              " 'built',\n",
              " 'right',\n",
              " 'into',\n",
              " 'the',\n",
              " 'ideals',\n",
              " 'and',\n",
              " 'objectives',\n",
              " 'of',\n",
              " 'the',\n",
              " '#United',\n",
              " 'Nations\"',\n",
              " '#UNSG',\n",
              " '@',\n",
              " 'NY',\n",
              " 'Society',\n",
              " 'for',\n",
              " 'Ethical',\n",
              " 'Culture',\n",
              " 'bit.ly/2guVelr']"
            ]
          },
          "metadata": {
            "tags": []
          },
          "execution_count": 16
        }
      ]
    },
    {
      "cell_type": "markdown",
      "metadata": {
        "id": "DHlPakkaxyyf",
        "colab_type": "text"
      },
      "source": [
        "<br>\n",
        "Finding hastags:"
      ]
    },
    {
      "cell_type": "code",
      "metadata": {
        "id": "FoBoTmBTxyyg",
        "colab_type": "code",
        "colab": {
          "base_uri": "https://localhost:8080/",
          "height": 34
        },
        "outputId": "5bce28df-2bfb-49ef-bfe7-a1de99954bc3"
      },
      "source": [
        "[w for w in text6 if w.startswith('#')]\n",
        "[w for w in text6 if w.startswith('#')]"
      ],
      "execution_count": 17,
      "outputs": [
        {
          "output_type": "execute_result",
          "data": {
            "text/plain": [
              "['#United', '#UNSG']"
            ]
          },
          "metadata": {
            "tags": []
          },
          "execution_count": 17
        }
      ]
    },
    {
      "cell_type": "markdown",
      "metadata": {
        "id": "EESjIURxxyyi",
        "colab_type": "text"
      },
      "source": [
        "<br>\n",
        "Finding callouts:"
      ]
    },
    {
      "cell_type": "code",
      "metadata": {
        "id": "_Ww_w4a2xyyj",
        "colab_type": "code",
        "colab": {
          "base_uri": "https://localhost:8080/",
          "height": 34
        },
        "outputId": "0cdf5d9f-b98b-4dee-bba6-e69aa93f7884"
      },
      "source": [
        "[w for w in text6 if w.startswith('@')]"
      ],
      "execution_count": 18,
      "outputs": [
        {
          "output_type": "execute_result",
          "data": {
            "text/plain": [
              "['@']"
            ]
          },
          "metadata": {
            "tags": []
          },
          "execution_count": 18
        }
      ]
    },
    {
      "cell_type": "code",
      "metadata": {
        "id": "sHPXz3N6xyyl",
        "colab_type": "code",
        "colab": {
          "base_uri": "https://localhost:8080/",
          "height": 34
        },
        "outputId": "895e34b9-44c2-4270-8057-8607dcfb47c6"
      },
      "source": [
        "text7 = '@UN @UN_Women \"Ethics are built right into the ideals and objectives of the United Nations\" \\\n",
        "#UNSG @ NY Society for Ethical Culture bit.ly/2guVelr'\n",
        "text8 = text7.split(' ')\n",
        "[w for w in text8 if w.startswith('@')]"
      ],
      "execution_count": 22,
      "outputs": [
        {
          "output_type": "execute_result",
          "data": {
            "text/plain": [
              "['@UN', '@UN_Women', '@']"
            ]
          },
          "metadata": {
            "tags": []
          },
          "execution_count": 22
        }
      ]
    },
    {
      "cell_type": "markdown",
      "metadata": {
        "id": "Dfs4oqQGxyyo",
        "colab_type": "text"
      },
      "source": [
        "<br>\n",
        "\n",
        "We can use regular expressions to help us with more complex parsing. \n",
        "\n",
        "For example `'@[A-Za-z0-9_]+'` will return all words that: \n",
        "* start with `'@'` and are followed by at least one: \n",
        "* capital letter (`'A-Z'`)\n",
        "* lowercase letter (`'a-z'`) \n",
        "* number (`'0-9'`)\n",
        "* or underscore (`'_'`)"
      ]
    },
    {
      "cell_type": "code",
      "metadata": {
        "id": "cCGJM58Nxyyp",
        "colab_type": "code",
        "colab": {
          "base_uri": "https://localhost:8080/",
          "height": 34
        },
        "outputId": "53f47ee4-d512-4e20-d980-41986a096253"
      },
      "source": [
        "import re # import re - a module that provides support for regular expressions\n",
        "\n",
        "[w for w in text8 if re.search('@[A-Za-z0-9_]+', w)]\n",
        "[w for w in text8 if re.search('@[A-Za-z0-9_]+', w)]"
      ],
      "execution_count": 23,
      "outputs": [
        {
          "output_type": "execute_result",
          "data": {
            "text/plain": [
              "['@UN', '@UN_Women']"
            ]
          },
          "metadata": {
            "tags": []
          },
          "execution_count": 23
        }
      ]
    }
  ]
}